{
 "cells": [
  {
   "cell_type": "markdown",
   "id": "938f6e0b-f015-4642-93af-356f44578c6a",
   "metadata": {},
   "source": [
    "# Importing different modules that are needed in our project\n",
    "In the below cell we are importing different modules such as numpy, pandas, matplotlib,  seaborn, ipywidgets\n",
    "\n",
    "## numpy\n",
    "NumPy is the fundamental package for scientific computing in Python. It is a Python library that provides a multidimensional array object, various derived objects (such as masked arrays and matrices), and an assortment of routines for fast operations on arrays, including mathematical, logical, shape manipulation, sorting, selecting, I/O, discrete Fourier transforms, basic linear algebra, basic statistical operations, random simulation and much more.\n",
    "\n",
    "At the core of the NumPy package, is the ndarray object. This encapsulates n-dimensional arrays of homogeneous data types, with many operations being performed in compiled code for performance.\n",
    "For more: https://numpy.org/doc/stable/user/whatisnumpy.html\n",
    "\n",
    "## pandas\n",
    "pandas is a Python package that provides fast, flexible, and expressive data structures designed to make working with \"relational\" or \"labeled\" data both easy and intuitive. It aims to be the fundamental high-level building block for doing practical, real world data analysis in Python. Additionally, it has the broader goal of becoming the most powerful and flexible open source data analysis / manipulation tool available in any language. It is already well on its way towards this goal.\n",
    "For more: https://pypi.org/project/pandas/\n",
    "\n",
    "## matplotlib\n",
    "Matplotlib is one of the most popular Python packages used for data visualization. It is a cross-platform library for making 2D plots from data in arrays. Matplotlib is written in Python and makes use of NumPy, the numerical mathematics extension of Python. It provides an object-oriented API that helps in embedding plots in applications using Python GUI toolkits such as PyQt, WxPythonotTkinter. It can be used in Python and IPython shells, Jupyter notebook and web application servers also.\n",
    "\n",
    "Matplotlib has a procedural interface named the Pylab, which is designed to resemble MATLAB, a proprietary programming language developed by MathWorks. Matplotlib along with NumPy can be considered as the open source equivalent of MATLAB.sible.\n",
    "For more: https://www.tutorialspoint.com/matplotlib/matplotlib_introduction.htm\n",
    "\n",
    "## seaborn\n",
    "Seaborn is a library for making statistical graphics in Python. It builds on top of matplotlib and integrates closely with pandas data structures.\n",
    "\n",
    "Seaborn helps you explore and understand your data. Its plotting functions operate on dataframes and arrays containing whole datasets and internally perform the necessary semantic mapping and statistical aggregation to produce informative plots. Its dataset-oriented, declarative API lets you focus on what the different elements of your plots mean, rather than on the details of how to draw them.\n",
    "For more: https://seaborn.pydata.org/introduction.html\n",
    "\n",
    "## ipywidgets\n",
    "ipywidgets, also known as jupyter-widgets or simply widgets, are interactive HTML widgets for Jupyter notebooks and the IPython kernel.\n",
    "\n",
    "Notebooks come alive when interactive widgets are used. Users gain control of their data and can visualize changes in the data.\n",
    "For more: https://ipywidgets.readthedocs.io/en/latest/\n",
    "\n"
   ]
  },
  {
   "cell_type": "code",
   "execution_count": 3,
   "id": "eb47f200",
   "metadata": {},
   "outputs": [],
   "source": [
    "#Importing Libraries\n",
    "\n",
    "#Importing libraries for data manipulation\n",
    "import numpy as np\n",
    "import pandas as pd\n",
    "\n",
    "#Importing libraries for visualization\n",
    "import matplotlib.pyplot as plt\n",
    "import seaborn as sns\n",
    "\n",
    "#for interactivity importing from ipywidgets\n",
    "from ipywidgets import interact\n"
   ]
  },
  {
   "cell_type": "markdown",
   "id": "102b0960-77bd-4ee3-8ffc-aa46b37e824f",
   "metadata": {},
   "source": [
    "## Reading our dataset\n",
    "Here we are "
   ]
  },
  {
   "cell_type": "code",
   "execution_count": 4,
   "id": "8a7ce5b5",
   "metadata": {},
   "outputs": [
    {
     "name": "stdout",
     "output_type": "stream",
     "text": [
      "Shape of the data :  (2200, 8)\n"
     ]
    }
   ],
   "source": [
    "#Using Pandas to read the dataset data.csv\n",
    "data = pd.read_csv('data.csv')\n",
    "\n",
    "#What is the Shape of data?\n",
    "#Shape of the data is the size of the 2d matrix of data that is created\n",
    "#print(data.shape) will give us the output in (rows, coloumns) format\n",
    "\n",
    "print(\"Shape of the data : \",data.shape)"
   ]
  },
  {
   "cell_type": "code",
   "execution_count": 5,
   "id": "ad104e28",
   "metadata": {},
   "outputs": [
    {
     "name": "stdout",
     "output_type": "stream",
     "text": [
      "<bound method NDFrame.head of         N   P   K  temperature   humidity        ph    rainfall   label\n",
      "0      90  42  43    20.879744  82.002744  6.502985  202.935536    rice\n",
      "1      85  58  41    21.770462  80.319644  7.038096  226.655537    rice\n",
      "2      60  55  44    23.004459  82.320763  7.840207  263.964248    rice\n",
      "3      74  35  40    26.491096  80.158363  6.980401  242.864034    rice\n",
      "4      78  42  42    20.130175  81.604873  7.628473  262.717340    rice\n",
      "...   ...  ..  ..          ...        ...       ...         ...     ...\n",
      "2195  107  34  32    26.774637  66.413269  6.780064  177.774507  coffee\n",
      "2196   99  15  27    27.417112  56.636362  6.086922  127.924610  coffee\n",
      "2197  118  33  30    24.131797  67.225123  6.362608  173.322839  coffee\n",
      "2198  117  32  34    26.272418  52.127394  6.758793  127.175293  coffee\n",
      "2199  104  18  30    23.603016  60.396475  6.779833  140.937041  coffee\n",
      "\n",
      "[2200 rows x 8 columns]>\n"
     ]
    }
   ],
   "source": [
    "#checking the head of the dataset\n",
    "print(data.head)"
   ]
  },
  {
   "cell_type": "code",
   "execution_count": 6,
   "id": "0b274042",
   "metadata": {},
   "outputs": [
    {
     "name": "stdout",
     "output_type": "stream",
     "text": [
      "          N      P      K  temperature  humidity     ph  rainfall  label\n",
      "0     False  False  False        False     False  False     False  False\n",
      "1     False  False  False        False     False  False     False  False\n",
      "2     False  False  False        False     False  False     False  False\n",
      "3     False  False  False        False     False  False     False  False\n",
      "4     False  False  False        False     False  False     False  False\n",
      "...     ...    ...    ...          ...       ...    ...       ...    ...\n",
      "2195  False  False  False        False     False  False     False  False\n",
      "2196  False  False  False        False     False  False     False  False\n",
      "2197  False  False  False        False     False  False     False  False\n",
      "2198  False  False  False        False     False  False     False  False\n",
      "2199  False  False  False        False     False  False     False  False\n",
      "\n",
      "[2200 rows x 8 columns]\n"
     ]
    }
   ],
   "source": [
    "print(data.isnull())"
   ]
  },
  {
   "cell_type": "code",
   "execution_count": 7,
   "id": "ddae2db0",
   "metadata": {},
   "outputs": [
    {
     "name": "stdout",
     "output_type": "stream",
     "text": [
      "N              0\n",
      "P              0\n",
      "K              0\n",
      "temperature    0\n",
      "humidity       0\n",
      "ph             0\n",
      "rainfall       0\n",
      "label          0\n",
      "dtype: int64\n"
     ]
    }
   ],
   "source": [
    "#to get the total number of rows with null values\n",
    "print(data.isnull().sum())"
   ]
  },
  {
   "cell_type": "code",
   "execution_count": 8,
   "id": "2f58a163",
   "metadata": {},
   "outputs": [
    {
     "data": {
      "text/html": [
       "<div>\n",
       "<style scoped>\n",
       "    .dataframe tbody tr th:only-of-type {\n",
       "        vertical-align: middle;\n",
       "    }\n",
       "\n",
       "    .dataframe tbody tr th {\n",
       "        vertical-align: top;\n",
       "    }\n",
       "\n",
       "    .dataframe thead th {\n",
       "        text-align: right;\n",
       "    }\n",
       "</style>\n",
       "<table border=\"1\" class=\"dataframe\">\n",
       "  <thead>\n",
       "    <tr style=\"text-align: right;\">\n",
       "      <th></th>\n",
       "      <th>N</th>\n",
       "      <th>P</th>\n",
       "      <th>K</th>\n",
       "      <th>temperature</th>\n",
       "      <th>humidity</th>\n",
       "      <th>ph</th>\n",
       "      <th>rainfall</th>\n",
       "      <th>label</th>\n",
       "    </tr>\n",
       "  </thead>\n",
       "  <tbody>\n",
       "    <tr>\n",
       "      <th>0</th>\n",
       "      <td>False</td>\n",
       "      <td>False</td>\n",
       "      <td>False</td>\n",
       "      <td>False</td>\n",
       "      <td>False</td>\n",
       "      <td>False</td>\n",
       "      <td>False</td>\n",
       "      <td>False</td>\n",
       "    </tr>\n",
       "    <tr>\n",
       "      <th>1</th>\n",
       "      <td>False</td>\n",
       "      <td>False</td>\n",
       "      <td>False</td>\n",
       "      <td>False</td>\n",
       "      <td>False</td>\n",
       "      <td>False</td>\n",
       "      <td>False</td>\n",
       "      <td>False</td>\n",
       "    </tr>\n",
       "    <tr>\n",
       "      <th>2</th>\n",
       "      <td>False</td>\n",
       "      <td>False</td>\n",
       "      <td>False</td>\n",
       "      <td>False</td>\n",
       "      <td>False</td>\n",
       "      <td>False</td>\n",
       "      <td>False</td>\n",
       "      <td>False</td>\n",
       "    </tr>\n",
       "    <tr>\n",
       "      <th>3</th>\n",
       "      <td>False</td>\n",
       "      <td>False</td>\n",
       "      <td>False</td>\n",
       "      <td>False</td>\n",
       "      <td>False</td>\n",
       "      <td>False</td>\n",
       "      <td>False</td>\n",
       "      <td>False</td>\n",
       "    </tr>\n",
       "    <tr>\n",
       "      <th>4</th>\n",
       "      <td>False</td>\n",
       "      <td>False</td>\n",
       "      <td>False</td>\n",
       "      <td>False</td>\n",
       "      <td>False</td>\n",
       "      <td>False</td>\n",
       "      <td>False</td>\n",
       "      <td>False</td>\n",
       "    </tr>\n",
       "    <tr>\n",
       "      <th>...</th>\n",
       "      <td>...</td>\n",
       "      <td>...</td>\n",
       "      <td>...</td>\n",
       "      <td>...</td>\n",
       "      <td>...</td>\n",
       "      <td>...</td>\n",
       "      <td>...</td>\n",
       "      <td>...</td>\n",
       "    </tr>\n",
       "    <tr>\n",
       "      <th>2195</th>\n",
       "      <td>False</td>\n",
       "      <td>False</td>\n",
       "      <td>False</td>\n",
       "      <td>False</td>\n",
       "      <td>False</td>\n",
       "      <td>False</td>\n",
       "      <td>False</td>\n",
       "      <td>False</td>\n",
       "    </tr>\n",
       "    <tr>\n",
       "      <th>2196</th>\n",
       "      <td>False</td>\n",
       "      <td>False</td>\n",
       "      <td>False</td>\n",
       "      <td>False</td>\n",
       "      <td>False</td>\n",
       "      <td>False</td>\n",
       "      <td>False</td>\n",
       "      <td>False</td>\n",
       "    </tr>\n",
       "    <tr>\n",
       "      <th>2197</th>\n",
       "      <td>False</td>\n",
       "      <td>False</td>\n",
       "      <td>False</td>\n",
       "      <td>False</td>\n",
       "      <td>False</td>\n",
       "      <td>False</td>\n",
       "      <td>False</td>\n",
       "      <td>False</td>\n",
       "    </tr>\n",
       "    <tr>\n",
       "      <th>2198</th>\n",
       "      <td>False</td>\n",
       "      <td>False</td>\n",
       "      <td>False</td>\n",
       "      <td>False</td>\n",
       "      <td>False</td>\n",
       "      <td>False</td>\n",
       "      <td>False</td>\n",
       "      <td>False</td>\n",
       "    </tr>\n",
       "    <tr>\n",
       "      <th>2199</th>\n",
       "      <td>False</td>\n",
       "      <td>False</td>\n",
       "      <td>False</td>\n",
       "      <td>False</td>\n",
       "      <td>False</td>\n",
       "      <td>False</td>\n",
       "      <td>False</td>\n",
       "      <td>False</td>\n",
       "    </tr>\n",
       "  </tbody>\n",
       "</table>\n",
       "<p>2200 rows × 8 columns</p>\n",
       "</div>"
      ],
      "text/plain": [
       "          N      P      K  temperature  humidity     ph  rainfall  label\n",
       "0     False  False  False        False     False  False     False  False\n",
       "1     False  False  False        False     False  False     False  False\n",
       "2     False  False  False        False     False  False     False  False\n",
       "3     False  False  False        False     False  False     False  False\n",
       "4     False  False  False        False     False  False     False  False\n",
       "...     ...    ...    ...          ...       ...    ...       ...    ...\n",
       "2195  False  False  False        False     False  False     False  False\n",
       "2196  False  False  False        False     False  False     False  False\n",
       "2197  False  False  False        False     False  False     False  False\n",
       "2198  False  False  False        False     False  False     False  False\n",
       "2199  False  False  False        False     False  False     False  False\n",
       "\n",
       "[2200 rows x 8 columns]"
      ]
     },
     "execution_count": 8,
     "metadata": {},
     "output_type": "execute_result"
    }
   ],
   "source": [
    "pd.isnull(data)"
   ]
  },
  {
   "cell_type": "code",
   "execution_count": 9,
   "id": "038ae2d7",
   "metadata": {},
   "outputs": [
    {
     "data": {
      "text/plain": [
       "N              0\n",
       "P              0\n",
       "K              0\n",
       "temperature    0\n",
       "humidity       0\n",
       "ph             0\n",
       "rainfall       0\n",
       "label          0\n",
       "dtype: int64"
      ]
     },
     "execution_count": 9,
     "metadata": {},
     "output_type": "execute_result"
    }
   ],
   "source": [
    "pd.isnull(data).sum()"
   ]
  },
  {
   "cell_type": "code",
   "execution_count": 10,
   "id": "abff30ec",
   "metadata": {},
   "outputs": [
    {
     "data": {
      "text/plain": [
       "rice           100\n",
       "maize          100\n",
       "jute           100\n",
       "cotton         100\n",
       "coconut        100\n",
       "papaya         100\n",
       "orange         100\n",
       "apple          100\n",
       "muskmelon      100\n",
       "watermelon     100\n",
       "grapes         100\n",
       "mango          100\n",
       "banana         100\n",
       "pomegranate    100\n",
       "lentil         100\n",
       "blackgram      100\n",
       "mungbean       100\n",
       "mothbeans      100\n",
       "pigeonpeas     100\n",
       "kidneybeans    100\n",
       "chickpea       100\n",
       "coffee         100\n",
       "Name: label, dtype: int64"
      ]
     },
     "execution_count": 10,
     "metadata": {},
     "output_type": "execute_result"
    }
   ],
   "source": [
    "# to check the crops in our dataset\n",
    "data['label'].value_counts()"
   ]
  },
  {
   "cell_type": "code",
   "execution_count": 11,
   "id": "8e3cb388",
   "metadata": {},
   "outputs": [
    {
     "data": {
      "text/plain": [
       "N    P    K    temperature  humidity   ph        rainfall    label      \n",
       "0    5    36   24.351938    90.886124  6.152907  105.529185  pomegranate    1\n",
       "69   60   54   36.322681    93.061344  6.989927  141.173693  papaya         1\n",
       "     37   42   23.058049    83.370118  7.073454  251.055000  rice           1\n",
       "     46   41   23.641248    80.285979  5.012140  263.110330  rice           1\n",
       "     47   40   25.371227    76.240367  6.130136  183.827079  jute           1\n",
       "                                                                           ..\n",
       "26   126  195  21.413638    92.991245  5.878569  118.397907  apple          1\n",
       "     122  202  22.445170    94.737635  5.617227  107.184327  apple          1\n",
       "     121  201  22.191094    90.025751  6.162034  112.312663  apple          1\n",
       "     80   83   17.084985    16.145658  7.528600  71.310073   chickpea       1\n",
       "140  45   15   25.530827    80.046628  5.801048  99.395572   cotton         1\n",
       "Length: 2200, dtype: int64"
      ]
     },
     "execution_count": 11,
     "metadata": {},
     "output_type": "execute_result"
    }
   ],
   "source": [
    "data.value_counts()"
   ]
  },
  {
   "cell_type": "markdown",
   "id": "a4f02dbf-b12e-4fd3-970b-6b892ddd1562",
   "metadata": {},
   "source": [
    "# Finding Pattern\n",
    "Here we are trying to find different patterns from our dataset, and trying to watch wha we can conclude from them."
   ]
  },
  {
   "cell_type": "code",
   "execution_count": 12,
   "id": "b30ebcc7",
   "metadata": {},
   "outputs": [
    {
     "name": "stdout",
     "output_type": "stream",
     "text": [
      "The Average Ratio of Nitrogen in soil is 50.55%\n",
      "The Average Ratio of Phosphorus in Soil is 53.36%\n",
      "The Average Ratio of Potassium in Soil is 48.15%\n",
      "The Average Temperature in Celsius is 25.62\n",
      "The Average Relative Humidity in Soil is 71.48%\n",
      "The Average PH value of the soil is 6.47\n",
      "The Average Rainfall in mm 103.46\n"
     ]
    }
   ],
   "source": [
    "## Checking the Average of each components of soil\n",
    "print(\"The Average Ratio of Nitrogen in soil is {0:.2f}%\".format(data['N'].mean()))\n",
    "print(\"The Average Ratio of Phosphorus in Soil is {0:.2f}%\".format(data['P'].mean()))\n",
    "print(\"The Average Ratio of Potassium in Soil is {0:.2f}%\".format(data['K'].mean()))\n",
    "print(\"The Average Temperature in Celsius is {0:.2f}\".format(data['temperature'].mean()))\n",
    "print(\"The Average Relative Humidity in Soil is {0:.2f}%\".format(data['humidity'].mean()))\n",
    "print(\"The Average PH value of the soil is {0:.2f}\".format(data['ph'].mean()))\n",
    "print(\"The Average Rainfall in mm {0:.2f}\".format(data['rainfall'].mean()))"
   ]
  },
  {
   "cell_type": "code",
   "execution_count": 13,
   "id": "7cc69759",
   "metadata": {},
   "outputs": [
    {
     "data": {
      "application/vnd.jupyter.widget-view+json": {
       "model_id": "61a079c7eb80481db4559599f0eff783",
       "version_major": 2,
       "version_minor": 0
      },
      "text/plain": [
       "interactive(children=(Dropdown(description='crops', options=('rice', 'maize', 'jute', 'cotton', 'coconut', 'pa…"
      ]
     },
     "metadata": {},
     "output_type": "display_data"
    }
   ],
   "source": [
    "#Summarizing the statistics for each crop in an interactive way\n",
    "\n",
    "@interact #Syntactic sugar for calling the ipywidget and any functions can be made interactive in ipy using this\n",
    "def summary_for_crop(crops=list(data['label'].value_counts().index)):\n",
    "    x=data[data['label']==crops]\n",
    "    print(\"\\n\")\n",
    "    print(\"*-*-*-*-*-*-*-*-*-*-*-*-*-*-*-*-*-\")\n",
    "    print(\"Statistics for Nitrogen\\n\")\n",
    "    print(\"Minimum Nitrogen required : \",x['N'].min())\n",
    "    print(\"Average Nitrogen required : \",x['N'].mean())\n",
    "    print(\"Maximum Nitrogen required : \",x['N'].max())\n",
    "    print(\"\\n\")\n",
    "    \n",
    "    print(\"*-*-*-*-*-*-*-*-*-*-*-*-*-*-*-*-*-\\n\")\n",
    "    print(\"Statistics for Phosphorous\\n\")\n",
    "    print(\"Minimum Phosphorus required : \",x['P'].min())\n",
    "    print(\"Average Phosphorus required : \",x['P'].mean())\n",
    "    print(\"Maximum Phosphorus required : \",x['P'].max())\n",
    "    print(\"\\n\")\n",
    "    \n",
    "    print(\"*-*-*-*-*-*-*-*-*-*-*-*-*-*-*-*-*-\\n\")\n",
    "    print(\"Statistics for Potassium\\n\")\n",
    "    print(\"Minimum Pottasium required : \",x['K'].min())\n",
    "    print(\"Average Pottasium required : \",x['K'].mean())\n",
    "    print(\"Maximum Pottasium required : \",x['K'].max())\n",
    "    print(\"\\n\")\n",
    "    \n",
    "    print(\"*-*-*-*-*-*-*-*-*-*-*-*-*-*-*-*-*-\\n\")\n",
    "    print(\"Statistics for Temperature\\n\")\n",
    "    print(\"Minimum Tenperature required in Celsius: {0:.2f} C\".format(x['temperature'].min()))\n",
    "    print(\"Average Temperature required in Celsius: {0:.2f} C\".format(x['temperature'].mean()))\n",
    "    print(\"Maximum Temperature required in Celsius: {0:.2f} C\\n\".format(x['temperature'].max()))\n",
    "    \n",
    "    print(\"*-*-*-*-*-*-*-*-*-*-*-*-*-*-*-*-*-\\n\")\n",
    "    print(\"Statistics for Humidity\\n\")\n",
    "    print(\"Minimum Humidity required : {0:.2f}%\".format(x['humidity'].min()))\n",
    "    print(\"Average Humidity required : {0:.2f}%\".format(x['humidity'].mean()))\n",
    "    print(\"Maximum Humidity required : {0:.2f}%\\n\".format(x['humidity'].max()))\n",
    "    \n",
    "    \n",
    "    print(\"*-*-*-*-*-*-*-*-*-*-*-*-*-*-*-*-*-\\n\")\n",
    "    print(\"Statistics for pH\\n\")\n",
    "    print(\"Minimum pH required : {0:.2f}\".format(x['ph'].min()))\n",
    "    print(\"Average pH required : {0:.2f}\".format(x['ph'].mean()))\n",
    "    print(\"Maximum pH required : {0:.2f}\\n\".format(x['ph'].max()))\n",
    "    \n",
    "    print(\"*-*-*-*-*-*-*-*-*-*-*-*-*-*-*-*-*-\\n\")\n",
    "    print(\"Statistics for Rainfall\\n\")\n",
    "    print(\"Minimum Rainfall required in mm: {0:.2f}mm\".format(x['rainfall'].min()))\n",
    "    print(\"Average Rainfall required in mm: {0:.2f}mm\".format(x['rainfall'].mean()))\n",
    "    print(\"Maximum Rainfall required in mm: {0:.2f}mm\\n\".format(x['rainfall'].max()))\n",
    "    print(\"*-*-*-*-*-*-*-*-*-*-*-*-*-*-*-*-*-\\n\")"
   ]
  },
  {
   "cell_type": "markdown",
   "id": "060787fa-ff91-4efd-8cfc-c853c26a9ab5",
   "metadata": {},
   "source": [
    "# Comparing each crop \n",
    "Here we are comparing each crop to compare the average requirements of each crop to grow, so that we can analyze better that which crop needs what more when compared to the other crops."
   ]
  },
  {
   "cell_type": "code",
   "execution_count": 14,
   "id": "2bb9c433",
   "metadata": {},
   "outputs": [
    {
     "data": {
      "application/vnd.jupyter.widget-view+json": {
       "model_id": "c859fa4898504271b25dc672270bfe59",
       "version_major": 2,
       "version_minor": 0
      },
      "text/plain": [
       "interactive(children=(Dropdown(description='conditions', options=('N', 'P', 'K', 'temperature', 'humidity', 'p…"
      ]
     },
     "metadata": {},
     "output_type": "display_data"
    }
   ],
   "source": [
    "#Checking the average conditions for each crop\n",
    "\n",
    "@interact\n",
    "def comparing_crops(conditions=['N','P','K','temperature','humidity','ph','rainfall']):\n",
    "    \n",
    "    print(\"Average Value for\", conditions,\"is :{0:.2f}\".format(data[conditions].mean()))\n",
    "    print(\"\\n*-*-*-*-*-*-*-*-*-*-*-*-*-*-*-*-*-\\n\")\n",
    "    print(\"Rice : {0:.2f}\".format(data[data['label']=='rice'][conditions].mean()))\n",
    "    print(\"Maize : {0:.2f}\".format(data[data['label']=='maize'][conditions].mean()))\n",
    "    print(\"Jute : {0:.2f}\".format(data[data['label']=='jute'][conditions].mean()))\n",
    "    print(\"Cotton : {0:.2f}\".format(data[data['label']=='cotton'][conditions].mean()))\n",
    "    print(\"Coconut : {0:.2f}\".format(data[data['label']=='coconut'][conditions].mean()))\n",
    "    print(\"Papaya : {0:.2f}\".format(data[data['label']=='papaya'][conditions].mean()))\n",
    "    print(\"Orange : {0:.2f}\".format(data[data['label']=='orange'][conditions].mean()))\n",
    "    print(\"Apple : {0:.2f}\".format(data[data['label']=='apple'][conditions].mean()))\n",
    "    print(\"Muskmelon : {0:.2f}\".format(data[data['label']=='muskmelon'][conditions].mean()))\n",
    "    print(\"Watermelon : {0:.2f}\".format(data[data['label']=='watermelon'][conditions].mean()))\n",
    "    print(\"Grapes : {0:.2f}\".format(data[data['label']=='grapes'][conditions].mean()))\n",
    "    print(\"Mango : {0:.2f}\".format(data[data['label']=='mango'][conditions].mean()))\n",
    "    print(\"Banana : {0:.2f}\".format(data[data['label']=='banana'][conditions].mean()))\n",
    "    print(\"Pomegranate : {0:.2f}\".format(data[data['label']=='pomegranate'][conditions].mean()))\n",
    "    print(\"Lentil : {0:.2f}\".format(data[data['label']=='lentil'][conditions].mean()))\n",
    "    print(\"Blackgram : {0:.2f}\".format(data[data['label']=='blackgram'][conditions].mean()))\n",
    "    print(\"Mung Beans : {0:.2f}\".format(data[data['label']=='mungbean'][conditions].mean()))\n",
    "    print(\"Moth Beans : {0:.2f}\".format(data[data['label']=='mothbeans'][conditions].mean()))\n",
    "    print(\"Pigeon Beans : {0:.2f}\".format(data[data['label']=='pigeonbeans'][conditions].mean()))\n",
    "    print(\"Kidney Beans : {0:.2f}\".format(data[data['label']=='kidneybeans'][conditions].mean()))\n",
    "    print(\"Chickpea : {0:.2f}\".format(data[data['label']=='chickpea'][conditions].mean()))\n",
    "    print(\"Coffee : {0:.2f}\".format(data[data['label']=='coffee'][conditions].mean()))\n",
    "    print(\"\\n*-*-*-*-*-*-*-*-*-*-*-*-*-*-*-*-*-\\n\")\n",
    "          "
   ]
  },
  {
   "cell_type": "markdown",
   "id": "2d44d290-3ae6-436b-88e4-72a956270f64",
   "metadata": {},
   "source": [
    "# Finding the pattern\n",
    "Here we are trying to find out which crops need above average and below average conditions to grow, so that we can determine which crop to grow so that it will be suitable for Farmer."
   ]
  },
  {
   "cell_type": "code",
   "execution_count": 15,
   "id": "5c9fe3e9",
   "metadata": {},
   "outputs": [
    {
     "data": {
      "application/vnd.jupyter.widget-view+json": {
       "model_id": "69c60471c88a464e8d22676b78089bc0",
       "version_major": 2,
       "version_minor": 0
      },
      "text/plain": [
       "interactive(children=(Dropdown(description='conditions', options=('N', 'P', 'K', 'temperature', 'humidity', 'p…"
      ]
     },
     "metadata": {},
     "output_type": "display_data"
    }
   ],
   "source": [
    "# Finding which crops need above average and below average conditions to grow\n",
    "\n",
    "@interact\n",
    "def above_n_below_average(conditions=['N','P','K','temperature','humidity','ph','rainfall']):\n",
    "    print(\"Crops which need above average \", conditions,\"are :-\\n\")\n",
    "    crops_with_greater_than_average=list(data[data[conditions]>data[conditions].mean()]['label'].unique())\n",
    "    for i in crops_with_greater_than_average:\n",
    "        print(i)\n",
    "    print(\"\\n\\nCrops which need below average \",conditions,\"are :-\\n\")\n",
    "    crops_with_lower_than_average=list(data[data[conditions]<data[conditions].mean()]['label'].unique())\n",
    "    for i in crops_with_lower_than_average:\n",
    "        print(i)"
   ]
  },
  {
   "cell_type": "markdown",
   "id": "3bf8aa1c-7a7a-4591-941e-5d5309b7a546",
   "metadata": {},
   "source": [
    "# Plotting the Distribution of our dataset\n",
    "Here we are ploting the distributions of our different fields"
   ]
  },
  {
   "cell_type": "code",
   "execution_count": 16,
   "id": "65375ce9-7f7a-4978-a71e-83467aced26c",
   "metadata": {},
   "outputs": [
    {
     "data": {
      "image/png": "[encoded data removed]",
      "text/plain": [
       "<Figure size 360x360 with 1 Axes>"
      ]
     },
     "metadata": {
      "needs_background": "light"
     },
     "output_type": "display_data"
    },
    {
     "data": {
      "image/png": "[encoded data removed]",
      "text/plain": [
       "<Figure size 360x360 with 1 Axes>"
      ]
     },
     "metadata": {
      "needs_background": "light"
     },
     "output_type": "display_data"
    },
    {
     "data": {
      "image/png": "[encoded data removed]",
      "text/plain": [
       "<Figure size 360x360 with 1 Axes>"
      ]
     },
     "metadata": {
      "needs_background": "light"
     },
     "output_type": "display_data"
    },
    {
     "data": {
      "image/png": "[encoded data removed]",
      "text/plain": [
       "<Figure size 360x360 with 1 Axes>"
      ]
     },
     "metadata": {
      "needs_background": "light"
     },
     "output_type": "display_data"
    },
    {
     "data": {
      "image/png": "[encoded data removed]",
      "text/plain": [
       "<Figure size 360x360 with 1 Axes>"
      ]
     },
     "metadata": {
      "needs_background": "light"
     },
     "output_type": "display_data"
    },
    {
     "data": {
      "image/png": "[encoded data removed]",
      "text/plain": [
       "<Figure size 360x360 with 1 Axes>"
      ]
     },
     "metadata": {
      "needs_background": "light"
     },
     "output_type": "display_data"
    },
    {
     "data": {
      "image/png": "[encoded data removed]",
      "text/plain": [
       "<Figure size 360x360 with 1 Axes>"
      ]
     },
     "metadata": {
      "needs_background": "light"
     },
     "output_type": "display_data"
    }
   ],
   "source": [
    "sns.displot(data['N'],color='darkred',kde='true')\n",
    "plt.xlabel('Ratio of Nitrogen', fontsize=12)\n",
    "plt.ylabel('Density', fontsize=12)\n",
    "plt.grid()\n",
    "\n",
    "plt.title('Distribution of Agriculture', fontsize=20)\n",
    "\n",
    "sns.displot(data['P'],color='lightblue',kde='true')\n",
    "plt.xlabel('Ratio of Phosphorus', fontsize=12)\n",
    "plt.ylabel('Density', fontsize=12)\n",
    "plt.grid()\n",
    "\n",
    "\n",
    "sns.displot(data['K'], color='darkblue',kde='true')\n",
    "plt.xlabel('Ratio of Potassium', fontsize=12)\n",
    "plt.ylabel('Density', fontsize=12)\n",
    "plt.grid()\n",
    "\n",
    "sns.displot(data['temperature'],color='purple',kde='true')\n",
    "plt.xlabel('Temperature', fontsize=12)\n",
    "plt.ylabel('Density', fontsize=12)\n",
    "plt.grid()\n",
    "\n",
    "sns.displot(data['ph'],color='green', kde='true')\n",
    "plt.xlabel('pH', fontsize=12)\n",
    "plt.ylabel('Density', fontsize=12)\n",
    "plt.grid()\n",
    "\n",
    "sns.displot(data['rainfall'], color='grey', kde='true')\n",
    "plt.xlabel('Rainfall', fontsize=12)\n",
    "plt.ylabel('Density', fontsize=12)\n",
    "plt.grid()\n",
    "\n",
    "sns.displot(data['humidity'], color='violet', kde='true')\n",
    "plt.xlabel('Humidity', fontsize=12)\n",
    "plt.ylabel('Density', fontsize=12)\n",
    "plt.grid()\n",
    "\n",
    "plt.show()"
   ]
  },
  {
   "cell_type": "code",
   "execution_count": 17,
   "id": "ed2279b5-b65b-467b-bfe2-8a0e854c6a61",
   "metadata": {},
   "outputs": [
    {
     "name": "stdout",
     "output_type": "stream",
     "text": [
      "Crops which need higher ratio of Nitrogen content in soil : ['cotton']\n",
      "Crops that need lower ratio of Nitrogen content in soil:  ['kidneybeans' 'pigeonpeas' 'mothbeans' 'mungbean' 'lentil' 'pomegranate'\n",
      " 'mango' 'grapes' 'apple' 'orange' 'coconut'] \n",
      "\n",
      "Crops which need higher ratio of Phosphorus content in soil:  ['grapes' 'apple']\n",
      "Crops that need lower ratio of Phosphorus content in soil:  ['pomegranate' 'mango' 'watermelon' 'muskmelon' 'orange' 'coconut'\n",
      " 'coffee'] \n",
      "\n",
      "Crops which need lower humidity in soil:  ['chickpea' 'kidneybeans']\n",
      "Crops which need higher humidity in soil:  ['rice' 'maize' 'pigeonpeas' 'mothbeans' 'mungbean' 'blackgram' 'lentil'\n",
      " 'pomegranate' 'banana' 'grapes' 'watermelon' 'muskmelon' 'apple' 'orange'\n",
      " 'papaya' 'coconut' 'cotton' 'jute' 'coffee'] \n",
      "\n",
      "Crops that need higher temperature:  ['pigeonpeas' 'mothbeans' 'blackgram' 'mango' 'grapes' 'orange' 'papaya']\n",
      "Crops which need lower temperature:  ['grapes' 'orange'] \n",
      "\n",
      "Crops that need high rainfall:  ['rice' 'papaya' 'coconut']\n",
      "Crops which need low pH:  ['mothbeans']\n",
      "Crops that need high ph:  ['mothbeans']\n"
     ]
    }
   ],
   "source": [
    "# Finding out the crops that need more or less condition requirement\n",
    "\n",
    "print(\"Crops which need higher ratio of Nitrogen content in soil :\", data[data['N']>120]['label'].unique())\n",
    "print(\"Crops that need lower ratio of Nitrogen content in soil: \", data[data['N']<20]['label'].unique(),\"\\n\")\n",
    "print(\"Crops which need higher ratio of Phosphorus content in soil: \",data[data['P']>100]['label'].unique())\n",
    "print(\"Crops that need lower ratio of Phosphorus content in soil: \",data[data['P']<20]['label'].unique(),\"\\n\")\n",
    "print(\"Crops which need lower humidity in soil: \",data[data['humidity']<20]['label'].unique())\n",
    "print(\"Crops which need higher humidity in soil: \",data[data['humidity']>60]['label'].unique(),\"\\n\")\n",
    "print(\"Crops that need higher temperature: \",data[data['temperature']>30]['label'].unique())\n",
    "print(\"Crops which need lower temperature: \",data[data['temperature']<15]['label'].unique(),\"\\n\")\n",
    "print(\"Crops that need high rainfall: \",data[data['rainfall']>200]['label'].unique())\n",
    "print(\"Crops which need low pH: \",data[data['ph']<4]['label'].unique())\n",
    "print(\"Crops that need high ph: \",data[data['ph']>9]['label'].unique())"
   ]
  },
  {
   "cell_type": "markdown",
   "id": "e884972f-325a-4a5a-a41e-427a54d66374",
   "metadata": {},
   "source": [
    "# Finding Out suitable season to grow crop\n",
    "\n",
    "Here we are trying to categorize the crops according to the seasons in which they will be suitable to grow giving less financial strain to the farmers."
   ]
  },
  {
   "cell_type": "code",
   "execution_count": 18,
   "id": "4f414ae3-af4e-4e98-bea0-b49d319972c3",
   "metadata": {},
   "outputs": [
    {
     "name": "stdout",
     "output_type": "stream",
     "text": [
      "SUMMER CROPS\n",
      "1 pigeonpeas\n",
      "2 mothbeans\n",
      "3 blackgram\n",
      "4 mango\n",
      "5 grapes\n",
      "6 orange\n",
      "7 papaya\n",
      "\n",
      "\n",
      "WINTER CROPS\n",
      "1 maize\n",
      "2 pigeonpeas\n",
      "3 lentil\n",
      "4 pomegranate\n",
      "5 grapes\n",
      "6 orange\n",
      "\n",
      "\n",
      "RAINY CROPS\n",
      "1 rice\n",
      "2 papaya\n",
      "3 coconut\n"
     ]
    }
   ],
   "source": [
    "print(\"SUMMER CROPS\")\n",
    "summer_crops=data[(data['temperature']>30) & (data['humidity']>50)]['label'].unique()\n",
    "for i in range(0, len(summer_crops)):\n",
    "    print(i+1, summer_crops[i])\n",
    "print('\\n')\n",
    "print(\"WINTER CROPS\")\n",
    "winter_crops=data[(data['temperature']<20) & (data['humidity']>30)]['label'].unique()\n",
    "for i in range(0, len(winter_crops)):\n",
    "    print(i+1, winter_crops[i])\n",
    "    \n",
    "print('\\n')\n",
    "print(\"RAINY CROPS\")\n",
    "rainy_crops=data[(data['rainfall']>200) & (data['humidity']>30)]['label'].unique()\n",
    "for i in range(0, len(rainy_crops)):\n",
    "    print(i+1, rainy_crops[i])\n"
   ]
  },
  {
   "cell_type": "markdown",
   "id": "b277e9f8-1c63-4ae2-a40f-53541d790b9e",
   "metadata": {},
   "source": [
    "# Clustering \n",
    "\n",
    "Here we are clustering our data to group different crop which can be grown in similar conditions.\n",
    "Clustering is a concept that we use in Unsupervised learning.\n",
    "here we are using K-Means clustering technique to create clusters.\n",
    "For more details about clustering: https://www.analyticsvidhya.com/blog/2016/11/an-introduction-to-clustering-and-different-methods-of-clustering/"
   ]
  },
  {
   "cell_type": "code",
   "execution_count": 19,
   "id": "91f72656-6317-4dbf-b64c-dfb6ff39ed4b",
   "metadata": {},
   "outputs": [
    {
     "data": {
      "image/png": "[encoded data removed]",
      "text/plain": [
       "<Figure size 720x288 with 1 Axes>"
      ]
     },
     "metadata": {
      "needs_background": "light"
     },
     "output_type": "display_data"
    }
   ],
   "source": [
    "from sklearn.cluster import KMeans\n",
    "\n",
    "#Removing the labels coloumn as we don't need labels here for unsupervised learning\n",
    "x=data.drop(['label'],axis=1)\n",
    "\n",
    "#selecting all the values of data\n",
    "x=x.values\n",
    "\n",
    "#Using Elbow method to find out the optimum value of k to apply K-Means Algo\n",
    "plt.rcParams['figure.figsize']=(10,4)\n",
    "\n",
    "within_cluster_sum_of_squares_or_wcss=[]\n",
    "for i in range(1,11):\n",
    "    km=KMeans(n_clusters=i, init='k-means++', max_iter=10, random_state=0)\n",
    "    km.fit(x)\n",
    "    within_cluster_sum_of_squares_or_wcss.append(km.inertia_)\n",
    "    \n",
    "#plotting the results\n",
    "plt.plot(range(1,11),within_cluster_sum_of_squares_or_wcss)\n",
    "plt.title(\"Using Elbow Method to find out the optimum value of k\",fontsize=20)\n",
    "plt.xlabel(\"Number of clusters\")\n",
    "plt.ylabel(\"Within Cluster Sum of Squares or WCSS\")\n",
    "plt.show()"
   ]
  },
  {
   "cell_type": "code",
   "execution_count": 21,
   "id": "52762f23-d30f-4565-abd1-47871e4a9a03",
   "metadata": {},
   "outputs": [
    {
     "name": "stdout",
     "output_type": "stream",
     "text": [
      "Crops in 1st cluster:  ['maize' 'chickpea' 'kidneybeans' 'pigeonpeas' 'mothbeans' 'mungbean'\n",
      " 'blackgram' 'lentil' 'pomegranate' 'mango' 'orange' 'papaya' 'coconut'] \n",
      "\n",
      "\n",
      "Crops in 2nd cluster:  ['maize' 'banana' 'watermelon' 'muskmelon' 'papaya' 'cotton' 'coffee'] \n",
      "\n",
      "\n",
      "Crops in 3rd cluster:  ['grapes' 'apple'] \n",
      "\n",
      "\n",
      "Crops in 4th cluster:  ['rice' 'pigeonpeas' 'papaya' 'coconut' 'jute' 'coffee'] \n",
      "\n",
      "\n"
     ]
    }
   ],
   "source": [
    "# Implementing K-Means clustering\n",
    "\n",
    "km=KMeans(n_clusters=4, init='k-means++', max_iter=300, n_init=10, random_state=0)\n",
    "y_means=km.fit_predict(x)\n",
    "\n",
    "labels=data['label']\n",
    "y_means = pd.DataFrame(y_means)\n",
    "z=pd.concat([y_means,labels],axis=1)\n",
    "z=z.rename(columns={0:'cluster'})\n",
    "\n",
    "#Checking clusters of each crop\n",
    "n=[\"1st\",\"2nd\",\"3rd\",\"4th\"]\n",
    "for i in range(0,len(n)):\n",
    "    print(\"Crops in\",n[i],\"cluster: \", z[z['cluster']==i]['label'].unique(),\"\\n\\n\")\n"
   ]
  },
  {
   "cell_type": "code",
   "execution_count": null,
   "id": "d406cd16",
   "metadata": {},
   "outputs": [],
   "source": []
  }
 ],
 "metadata": {
  "kernelspec": {
   "display_name": "Python 3 (ipykernel)",
   "language": "python",
   "name": "python3"
  },
  "language_info": {
   "codemirror_mode": {
    "name": "ipython",
    "version": 3
   },
   "file_extension": ".py",
   "mimetype": "text/x-python",
   "name": "python",
   "nbconvert_exporter": "python",
   "pygments_lexer": "ipython3",
   "version": "3.9.9"
  }
 },
 "nbformat": 4,
 "nbformat_minor": 5
}
