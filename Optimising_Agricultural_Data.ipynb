{
 "cells": [
  {
   "cell_type": "markdown",
   "id": "938f6e0b-f015-4642-93af-356f44578c6a",
   "metadata": {},
   "source": [
    "# Importing different modules that are needed in our project\n",
    "In the below cell we are importing different modules such as numpy, pandas, matplotlib,  seaborn, ipywidgets\n",
    "\n",
    "## numpy\n",
    "NumPy is the fundamental package for scientific computing in Python. It is a Python library that provides a multidimensional array object, various derived objects (such as masked arrays and matrices), and an assortment of routines for fast operations on arrays, including mathematical, logical, shape manipulation, sorting, selecting, I/O, discrete Fourier transforms, basic linear algebra, basic statistical operations, random simulation and much more.\n",
    "\n",
    "At the core of the NumPy package, is the ndarray object. This encapsulates n-dimensional arrays of homogeneous data types, with many operations being performed in compiled code for performance.\n",
    "For more: https://numpy.org/doc/stable/user/whatisnumpy.html\n",
    "\n",
    "## pandas\n",
    "pandas is a Python package that provides fast, flexible, and expressive data structures designed to make working with \"relational\" or \"labeled\" data both easy and intuitive. It aims to be the fundamental high-level building block for doing practical, real world data analysis in Python. Additionally, it has the broader goal of becoming the most powerful and flexible open source data analysis / manipulation tool available in any language. It is already well on its way towards this goal.\n",
    "For more: https://pypi.org/project/pandas/\n",
    "\n",
    "## matplotlib\n",
    "Matplotlib is one of the most popular Python packages used for data visualization. It is a cross-platform library for making 2D plots from data in arrays. Matplotlib is written in Python and makes use of NumPy, the numerical mathematics extension of Python. It provides an object-oriented API that helps in embedding plots in applications using Python GUI toolkits such as PyQt, WxPythonotTkinter. It can be used in Python and IPython shells, Jupyter notebook and web application servers also.\n",
    "\n",
    "Matplotlib has a procedural interface named the Pylab, which is designed to resemble MATLAB, a proprietary programming language developed by MathWorks. Matplotlib along with NumPy can be considered as the open source equivalent of MATLAB.sible.\n",
    "For more: https://www.tutorialspoint.com/matplotlib/matplotlib_introduction.htm\n",
    "\n",
    "## seaborn\n",
    "Seaborn is a library for making statistical graphics in Python. It builds on top of matplotlib and integrates closely with pandas data structures.\n",
    "\n",
    "Seaborn helps you explore and understand your data. Its plotting functions operate on dataframes and arrays containing whole datasets and internally perform the necessary semantic mapping and statistical aggregation to produce informative plots. Its dataset-oriented, declarative API lets you focus on what the different elements of your plots mean, rather than on the details of how to draw them.\n",
    "For more: https://seaborn.pydata.org/introduction.html\n",
    "\n",
    "## ipywidgets\n",
    "ipywidgets, also known as jupyter-widgets or simply widgets, are interactive HTML widgets for Jupyter notebooks and the IPython kernel.\n",
    "\n",
    "Notebooks come alive when interactive widgets are used. Users gain control of their data and can visualize changes in the data.\n",
    "For more: https://ipywidgets.readthedocs.io/en/latest/\n",
    "\n"
   ]
  },
  {
   "cell_type": "code",
   "execution_count": 2,
   "id": "eb47f200",
   "metadata": {},
   "outputs": [],
   "source": [
    "#Importing Libraries\n",
    "\n",
    "#Importing libraries for data manipulation\n",
    "import numpy as np\n",
    "import pandas as pd\n",
    "\n",
    "#Importing libraries for visualization\n",
    "import matplotlib.pyplot as plt\n",
    "import seaborn as sns\n",
    "\n",
    "#for interactivity importing from ipywidgets\n",
    "from ipywidgets import interact\n"
   ]
  },
  {
   "cell_type": "markdown",
   "id": "102b0960-77bd-4ee3-8ffc-aa46b37e824f",
   "metadata": {},
   "source": [
    "## Reading our dataset\n",
    "Here we are loading our dataset in csv format using pandas.read_csv() method"
   ]
  },
  {
   "cell_type": "code",
   "execution_count": 3,
   "id": "8a7ce5b5",
   "metadata": {},
   "outputs": [
    {
     "name": "stdout",
     "output_type": "stream",
     "text": [
      "Shape of the data :  (2200, 8)\n"
     ]
    }
   ],
   "source": [
    "#Using Pandas to read the dataset data.csv\n",
    "data = pd.read_csv('data.csv')\n",
    "\n",
    "#What is the Shape of data?\n",
    "#Shape of the data is the size of the 2d matrix of data that is created\n",
    "#print(data.shape) will give us the output in (rows, coloumns) format\n",
    "\n",
    "print(\"Shape of the data : \",data.shape)"
   ]
  },
  {
   "cell_type": "code",
   "execution_count": 32,
   "id": "ad104e28",
   "metadata": {},
   "outputs": [
    {
     "name": "stdout",
     "output_type": "stream",
     "text": [
      "    N   P   K  temperature   humidity        ph    rainfall label\n",
      "0  90  42  43    20.879744  82.002744  6.502985  202.935536  rice\n",
      "1  85  58  41    21.770462  80.319644  7.038096  226.655537  rice\n",
      "2  60  55  44    23.004459  82.320763  7.840207  263.964248  rice\n",
      "3  74  35  40    26.491096  80.158363  6.980401  242.864034  rice\n",
      "4  78  42  42    20.130175  81.604873  7.628473  262.717340  rice\n"
     ]
    }
   ],
   "source": [
    "#checking the head of the dataset\n",
    "print(data.head())"
   ]
  },
  {
   "cell_type": "code",
   "execution_count": 5,
   "id": "0b274042",
   "metadata": {},
   "outputs": [
    {
     "name": "stdout",
     "output_type": "stream",
     "text": [
      "          N      P      K  temperature  humidity     ph  rainfall  label\n",
      "0     False  False  False        False     False  False     False  False\n",
      "1     False  False  False        False     False  False     False  False\n",
      "2     False  False  False        False     False  False     False  False\n",
      "3     False  False  False        False     False  False     False  False\n",
      "4     False  False  False        False     False  False     False  False\n",
      "...     ...    ...    ...          ...       ...    ...       ...    ...\n",
      "2195  False  False  False        False     False  False     False  False\n",
      "2196  False  False  False        False     False  False     False  False\n",
      "2197  False  False  False        False     False  False     False  False\n",
      "2198  False  False  False        False     False  False     False  False\n",
      "2199  False  False  False        False     False  False     False  False\n",
      "\n",
      "[2200 rows x 8 columns]\n"
     ]
    }
   ],
   "source": [
    "print(data.isnull())"
   ]
  },
  {
   "cell_type": "code",
   "execution_count": 6,
   "id": "ddae2db0",
   "metadata": {},
   "outputs": [
    {
     "name": "stdout",
     "output_type": "stream",
     "text": [
      "N              0\n",
      "P              0\n",
      "K              0\n",
      "temperature    0\n",
      "humidity       0\n",
      "ph             0\n",
      "rainfall       0\n",
      "label          0\n",
      "dtype: int64\n"
     ]
    }
   ],
   "source": [
    "#to get the total number of rows with null values\n",
    "print(data.isnull().sum())"
   ]
  },
  {
   "cell_type": "code",
   "execution_count": 7,
   "id": "2f58a163",
   "metadata": {},
   "outputs": [
    {
     "data": {
      "text/html": [
       "<div>\n",
       "<style scoped>\n",
       "    .dataframe tbody tr th:only-of-type {\n",
       "        vertical-align: middle;\n",
       "    }\n",
       "\n",
       "    .dataframe tbody tr th {\n",
       "        vertical-align: top;\n",
       "    }\n",
       "\n",
       "    .dataframe thead th {\n",
       "        text-align: right;\n",
       "    }\n",
       "</style>\n",
       "<table border=\"1\" class=\"dataframe\">\n",
       "  <thead>\n",
       "    <tr style=\"text-align: right;\">\n",
       "      <th></th>\n",
       "      <th>N</th>\n",
       "      <th>P</th>\n",
       "      <th>K</th>\n",
       "      <th>temperature</th>\n",
       "      <th>humidity</th>\n",
       "      <th>ph</th>\n",
       "      <th>rainfall</th>\n",
       "      <th>label</th>\n",
       "    </tr>\n",
       "  </thead>\n",
       "  <tbody>\n",
       "    <tr>\n",
       "      <th>0</th>\n",
       "      <td>False</td>\n",
       "      <td>False</td>\n",
       "      <td>False</td>\n",
       "      <td>False</td>\n",
       "      <td>False</td>\n",
       "      <td>False</td>\n",
       "      <td>False</td>\n",
       "      <td>False</td>\n",
       "    </tr>\n",
       "    <tr>\n",
       "      <th>1</th>\n",
       "      <td>False</td>\n",
       "      <td>False</td>\n",
       "      <td>False</td>\n",
       "      <td>False</td>\n",
       "      <td>False</td>\n",
       "      <td>False</td>\n",
       "      <td>False</td>\n",
       "      <td>False</td>\n",
       "    </tr>\n",
       "    <tr>\n",
       "      <th>2</th>\n",
       "      <td>False</td>\n",
       "      <td>False</td>\n",
       "      <td>False</td>\n",
       "      <td>False</td>\n",
       "      <td>False</td>\n",
       "      <td>False</td>\n",
       "      <td>False</td>\n",
       "      <td>False</td>\n",
       "    </tr>\n",
       "    <tr>\n",
       "      <th>3</th>\n",
       "      <td>False</td>\n",
       "      <td>False</td>\n",
       "      <td>False</td>\n",
       "      <td>False</td>\n",
       "      <td>False</td>\n",
       "      <td>False</td>\n",
       "      <td>False</td>\n",
       "      <td>False</td>\n",
       "    </tr>\n",
       "    <tr>\n",
       "      <th>4</th>\n",
       "      <td>False</td>\n",
       "      <td>False</td>\n",
       "      <td>False</td>\n",
       "      <td>False</td>\n",
       "      <td>False</td>\n",
       "      <td>False</td>\n",
       "      <td>False</td>\n",
       "      <td>False</td>\n",
       "    </tr>\n",
       "    <tr>\n",
       "      <th>...</th>\n",
       "      <td>...</td>\n",
       "      <td>...</td>\n",
       "      <td>...</td>\n",
       "      <td>...</td>\n",
       "      <td>...</td>\n",
       "      <td>...</td>\n",
       "      <td>...</td>\n",
       "      <td>...</td>\n",
       "    </tr>\n",
       "    <tr>\n",
       "      <th>2195</th>\n",
       "      <td>False</td>\n",
       "      <td>False</td>\n",
       "      <td>False</td>\n",
       "      <td>False</td>\n",
       "      <td>False</td>\n",
       "      <td>False</td>\n",
       "      <td>False</td>\n",
       "      <td>False</td>\n",
       "    </tr>\n",
       "    <tr>\n",
       "      <th>2196</th>\n",
       "      <td>False</td>\n",
       "      <td>False</td>\n",
       "      <td>False</td>\n",
       "      <td>False</td>\n",
       "      <td>False</td>\n",
       "      <td>False</td>\n",
       "      <td>False</td>\n",
       "      <td>False</td>\n",
       "    </tr>\n",
       "    <tr>\n",
       "      <th>2197</th>\n",
       "      <td>False</td>\n",
       "      <td>False</td>\n",
       "      <td>False</td>\n",
       "      <td>False</td>\n",
       "      <td>False</td>\n",
       "      <td>False</td>\n",
       "      <td>False</td>\n",
       "      <td>False</td>\n",
       "    </tr>\n",
       "    <tr>\n",
       "      <th>2198</th>\n",
       "      <td>False</td>\n",
       "      <td>False</td>\n",
       "      <td>False</td>\n",
       "      <td>False</td>\n",
       "      <td>False</td>\n",
       "      <td>False</td>\n",
       "      <td>False</td>\n",
       "      <td>False</td>\n",
       "    </tr>\n",
       "    <tr>\n",
       "      <th>2199</th>\n",
       "      <td>False</td>\n",
       "      <td>False</td>\n",
       "      <td>False</td>\n",
       "      <td>False</td>\n",
       "      <td>False</td>\n",
       "      <td>False</td>\n",
       "      <td>False</td>\n",
       "      <td>False</td>\n",
       "    </tr>\n",
       "  </tbody>\n",
       "</table>\n",
       "<p>2200 rows × 8 columns</p>\n",
       "</div>"
      ],
      "text/plain": [
       "          N      P      K  temperature  humidity     ph  rainfall  label\n",
       "0     False  False  False        False     False  False     False  False\n",
       "1     False  False  False        False     False  False     False  False\n",
       "2     False  False  False        False     False  False     False  False\n",
       "3     False  False  False        False     False  False     False  False\n",
       "4     False  False  False        False     False  False     False  False\n",
       "...     ...    ...    ...          ...       ...    ...       ...    ...\n",
       "2195  False  False  False        False     False  False     False  False\n",
       "2196  False  False  False        False     False  False     False  False\n",
       "2197  False  False  False        False     False  False     False  False\n",
       "2198  False  False  False        False     False  False     False  False\n",
       "2199  False  False  False        False     False  False     False  False\n",
       "\n",
       "[2200 rows x 8 columns]"
      ]
     },
     "execution_count": 7,
     "metadata": {},
     "output_type": "execute_result"
    }
   ],
   "source": [
    "pd.isnull(data)"
   ]
  },
  {
   "cell_type": "code",
   "execution_count": 8,
   "id": "038ae2d7",
   "metadata": {},
   "outputs": [
    {
     "data": {
      "text/plain": [
       "N              0\n",
       "P              0\n",
       "K              0\n",
       "temperature    0\n",
       "humidity       0\n",
       "ph             0\n",
       "rainfall       0\n",
       "label          0\n",
       "dtype: int64"
      ]
     },
     "execution_count": 8,
     "metadata": {},
     "output_type": "execute_result"
    }
   ],
   "source": [
    "pd.isnull(data).sum()"
   ]
  },
  {
   "cell_type": "code",
   "execution_count": 9,
   "id": "abff30ec",
   "metadata": {},
   "outputs": [
    {
     "data": {
      "text/plain": [
       "rice           100\n",
       "maize          100\n",
       "jute           100\n",
       "cotton         100\n",
       "coconut        100\n",
       "papaya         100\n",
       "orange         100\n",
       "apple          100\n",
       "muskmelon      100\n",
       "watermelon     100\n",
       "grapes         100\n",
       "mango          100\n",
       "banana         100\n",
       "pomegranate    100\n",
       "lentil         100\n",
       "blackgram      100\n",
       "mungbean       100\n",
       "mothbeans      100\n",
       "pigeonpeas     100\n",
       "kidneybeans    100\n",
       "chickpea       100\n",
       "coffee         100\n",
       "Name: label, dtype: int64"
      ]
     },
     "execution_count": 9,
     "metadata": {},
     "output_type": "execute_result"
    }
   ],
   "source": [
    "# to check the crops in our dataset\n",
    "data['label'].value_counts()"
   ]
  },
  {
   "cell_type": "code",
   "execution_count": 10,
   "id": "8e3cb388",
   "metadata": {},
   "outputs": [
    {
     "data": {
      "text/plain": [
       "N    P    K    temperature  humidity   ph        rainfall    label      \n",
       "0    5    36   24.351938    90.886124  6.152907  105.529185  pomegranate    1\n",
       "69   60   54   36.322681    93.061344  6.989927  141.173693  papaya         1\n",
       "     37   42   23.058049    83.370118  7.073454  251.055000  rice           1\n",
       "     46   41   23.641248    80.285979  5.012140  263.110330  rice           1\n",
       "     47   40   25.371227    76.240367  6.130136  183.827079  jute           1\n",
       "                                                                           ..\n",
       "26   126  195  21.413638    92.991245  5.878569  118.397907  apple          1\n",
       "     122  202  22.445170    94.737635  5.617227  107.184327  apple          1\n",
       "     121  201  22.191094    90.025751  6.162034  112.312663  apple          1\n",
       "     80   83   17.084985    16.145658  7.528600  71.310073   chickpea       1\n",
       "140  45   15   25.530827    80.046628  5.801048  99.395572   cotton         1\n",
       "Length: 2200, dtype: int64"
      ]
     },
     "execution_count": 10,
     "metadata": {},
     "output_type": "execute_result"
    }
   ],
   "source": [
    "data.value_counts()"
   ]
  },
  {
   "cell_type": "markdown",
   "id": "a4f02dbf-b12e-4fd3-970b-6b892ddd1562",
   "metadata": {},
   "source": [
    "# Finding Pattern\n",
    "Here we are trying to find different patterns from our dataset, and trying to watch wha we can conclude from them."
   ]
  },
  {
   "cell_type": "code",
   "execution_count": 11,
   "id": "b30ebcc7",
   "metadata": {},
   "outputs": [
    {
     "name": "stdout",
     "output_type": "stream",
     "text": [
      "The Average Ratio of Nitrogen in soil is 50.55%\n",
      "The Average Ratio of Phosphorus in Soil is 53.36%\n",
      "The Average Ratio of Potassium in Soil is 48.15%\n",
      "The Average Temperature in Celsius is 25.62\n",
      "The Average Relative Humidity in Soil is 71.48%\n",
      "The Average PH value of the soil is 6.47\n",
      "The Average Rainfall in mm 103.46\n"
     ]
    }
   ],
   "source": [
    "## Checking the Average of each components of soil\n",
    "print(\"The Average Ratio of Nitrogen in soil is {0:.2f}%\".format(data['N'].mean()))\n",
    "print(\"The Average Ratio of Phosphorus in Soil is {0:.2f}%\".format(data['P'].mean()))\n",
    "print(\"The Average Ratio of Potassium in Soil is {0:.2f}%\".format(data['K'].mean()))\n",
    "print(\"The Average Temperature in Celsius is {0:.2f}\".format(data['temperature'].mean()))\n",
    "print(\"The Average Relative Humidity in Soil is {0:.2f}%\".format(data['humidity'].mean()))\n",
    "print(\"The Average PH value of the soil is {0:.2f}\".format(data['ph'].mean()))\n",
    "print(\"The Average Rainfall in mm {0:.2f}\".format(data['rainfall'].mean()))"
   ]
  },
  {
   "cell_type": "code",
   "execution_count": 12,
   "id": "7cc69759",
   "metadata": {},
   "outputs": [
    {
     "data": {
      "application/vnd.jupyter.widget-view+json": {
       "model_id": "7193709104c34cf9a31124c3581d4cca",
       "version_major": 2,
       "version_minor": 0
      },
      "text/plain": [
       "interactive(children=(Dropdown(description='crops', options=('rice', 'maize', 'jute', 'cotton', 'coconut', 'pa…"
      ]
     },
     "metadata": {},
     "output_type": "display_data"
    }
   ],
   "source": [
    "#Summarizing the statistics for each crop in an interactive way\n",
    "\n",
    "@interact #Syntactic sugar for calling the ipywidget and any functions can be made interactive in ipy using this\n",
    "def summary_for_crop(crops=list(data['label'].value_counts().index)):\n",
    "    x=data[data['label']==crops]\n",
    "    print(\"\\n\")\n",
    "    print(\"*-*-*-*-*-*-*-*-*-*-*-*-*-*-*-*-*-\")\n",
    "    print(\"Statistics for Nitrogen\\n\")\n",
    "    print(\"Minimum Nitrogen required : \",x['N'].min())\n",
    "    print(\"Average Nitrogen required : \",x['N'].mean())\n",
    "    print(\"Maximum Nitrogen required : \",x['N'].max())\n",
    "    print(\"\\n\")\n",
    "    \n",
    "    print(\"*-*-*-*-*-*-*-*-*-*-*-*-*-*-*-*-*-\\n\")\n",
    "    print(\"Statistics for Phosphorous\\n\")\n",
    "    print(\"Minimum Phosphorus required : \",x['P'].min())\n",
    "    print(\"Average Phosphorus required : \",x['P'].mean())\n",
    "    print(\"Maximum Phosphorus required : \",x['P'].max())\n",
    "    print(\"\\n\")\n",
    "    \n",
    "    print(\"*-*-*-*-*-*-*-*-*-*-*-*-*-*-*-*-*-\\n\")\n",
    "    print(\"Statistics for Potassium\\n\")\n",
    "    print(\"Minimum Pottasium required : \",x['K'].min())\n",
    "    print(\"Average Pottasium required : \",x['K'].mean())\n",
    "    print(\"Maximum Pottasium required : \",x['K'].max())\n",
    "    print(\"\\n\")\n",
    "    \n",
    "    print(\"*-*-*-*-*-*-*-*-*-*-*-*-*-*-*-*-*-\\n\")\n",
    "    print(\"Statistics for Temperature\\n\")\n",
    "    print(\"Minimum Tenperature required in Celsius: {0:.2f} C\".format(x['temperature'].min()))\n",
    "    print(\"Average Temperature required in Celsius: {0:.2f} C\".format(x['temperature'].mean()))\n",
    "    print(\"Maximum Temperature required in Celsius: {0:.2f} C\\n\".format(x['temperature'].max()))\n",
    "    \n",
    "    print(\"*-*-*-*-*-*-*-*-*-*-*-*-*-*-*-*-*-\\n\")\n",
    "    print(\"Statistics for Humidity\\n\")\n",
    "    print(\"Minimum Humidity required : {0:.2f}%\".format(x['humidity'].min()))\n",
    "    print(\"Average Humidity required : {0:.2f}%\".format(x['humidity'].mean()))\n",
    "    print(\"Maximum Humidity required : {0:.2f}%\\n\".format(x['humidity'].max()))\n",
    "    \n",
    "    \n",
    "    print(\"*-*-*-*-*-*-*-*-*-*-*-*-*-*-*-*-*-\\n\")\n",
    "    print(\"Statistics for pH\\n\")\n",
    "    print(\"Minimum pH required : {0:.2f}\".format(x['ph'].min()))\n",
    "    print(\"Average pH required : {0:.2f}\".format(x['ph'].mean()))\n",
    "    print(\"Maximum pH required : {0:.2f}\\n\".format(x['ph'].max()))\n",
    "    \n",
    "    print(\"*-*-*-*-*-*-*-*-*-*-*-*-*-*-*-*-*-\\n\")\n",
    "    print(\"Statistics for Rainfall\\n\")\n",
    "    print(\"Minimum Rainfall required in mm: {0:.2f}mm\".format(x['rainfall'].min()))\n",
    "    print(\"Average Rainfall required in mm: {0:.2f}mm\".format(x['rainfall'].mean()))\n",
    "    print(\"Maximum Rainfall required in mm: {0:.2f}mm\\n\".format(x['rainfall'].max()))\n",
    "    print(\"*-*-*-*-*-*-*-*-*-*-*-*-*-*-*-*-*-\\n\")"
   ]
  },
  {
   "cell_type": "markdown",
   "id": "060787fa-ff91-4efd-8cfc-c853c26a9ab5",
   "metadata": {},
   "source": [
    "# Comparing each crop \n",
    "Here we are comparing each crop to compare the average requirements of each crop to grow, so that we can analyze better that which crop needs what more when compared to the other crops."
   ]
  },
  {
   "cell_type": "code",
   "execution_count": 13,
   "id": "2bb9c433",
   "metadata": {},
   "outputs": [
    {
     "data": {
      "application/vnd.jupyter.widget-view+json": {
       "model_id": "85e7f468386c49b4ac4aca69dd257ce9",
       "version_major": 2,
       "version_minor": 0
      },
      "text/plain": [
       "interactive(children=(Dropdown(description='conditions', options=('N', 'P', 'K', 'temperature', 'humidity', 'p…"
      ]
     },
     "metadata": {},
     "output_type": "display_data"
    }
   ],
   "source": [
    "#Checking the average conditions for each crop\n",
    "\n",
    "@interact\n",
    "def comparing_crops(conditions=['N','P','K','temperature','humidity','ph','rainfall']):\n",
    "    \n",
    "    print(\"Average Value for\", conditions,\"is :{0:.2f}\".format(data[conditions].mean()))\n",
    "    print(\"\\n*-*-*-*-*-*-*-*-*-*-*-*-*-*-*-*-*-\\n\")\n",
    "    Crop_print=[\"Rice\",\"Maize\",\"Jute\",\"Cotton\",\"Coconut\",\"Papaya\",\"Orange\",\"Apple\",\"Muskmelon\",\"Watermelon\",\"Grapes\",\"Mango\",\"Banana\",\"Pomegranate\",\"Lentil\",\"Blackgram\",\"Mungbean\",\"Mothbean\",\"Pigeonpeas\",\"Kidneybeans\",\"Chickpea\",\"Coffee\"]\n",
    "    label_crops=[\"rice\",\"maize\",\"jute\",\"cotton\",\"coconut\",\"papaya\",\"orange\",\"apple\",\"muskmelon\",\"watermelon\",\"grapes\",\"mango\",\"banana\",\"pomegranate\",\"lentil\",\"blackgram\",\"mungbean\",\"mothbeans\",\"pigeonpeas\",\"kidneybeans\",\"chickpea\",\"coffee\"]\n",
    "    for i in range(0,len(Crop_print)):\n",
    "        print(Crop_print[i],\" : {0:.2f}\".format(data[data['label']==label_crops[i]][conditions].mean()))\n",
    "    print(\"\\n*-*-*-*-*-*-*-*-*-*-*-*-*-*-*-*-*-\\n\")\n",
    "          "
   ]
  },
  {
   "cell_type": "markdown",
   "id": "2d44d290-3ae6-436b-88e4-72a956270f64",
   "metadata": {},
   "source": [
    "# Finding the pattern\n",
    "Here we are trying to find out which crops need above average and below average conditions to grow, so that we can determine which crop to grow so that it will be suitable for Farmer."
   ]
  },
  {
   "cell_type": "code",
   "execution_count": 14,
   "id": "5c9fe3e9",
   "metadata": {},
   "outputs": [
    {
     "data": {
      "application/vnd.jupyter.widget-view+json": {
       "model_id": "389d4b0e569d4c8c82e5f4ef25a1eb82",
       "version_major": 2,
       "version_minor": 0
      },
      "text/plain": [
       "interactive(children=(Dropdown(description='conditions', options=('N', 'P', 'K', 'temperature', 'humidity', 'p…"
      ]
     },
     "metadata": {},
     "output_type": "display_data"
    }
   ],
   "source": [
    "# Finding which crops need above average and below average conditions to grow\n",
    "\n",
    "@interact\n",
    "def above_n_below_average(conditions=['N','P','K','temperature','humidity','ph','rainfall']):\n",
    "    print(\"Crops which need above average \", conditions,\"are :-\\n\")\n",
    "    crops_with_greater_than_average=list(data[data[conditions]>data[conditions].mean()]['label'].unique())\n",
    "    for i in crops_with_greater_than_average:\n",
    "        print(i)\n",
    "    print(\"\\n\\nCrops which need below average \",conditions,\"are :-\\n\")\n",
    "    crops_with_lower_than_average=list(data[data[conditions]<data[conditions].mean()]['label'].unique())\n",
    "    for i in crops_with_lower_than_average:\n",
    "        print(i)"
   ]
  },
  {
   "cell_type": "markdown",
   "id": "3bf8aa1c-7a7a-4591-941e-5d5309b7a546",
   "metadata": {},
   "source": [
    "# Plotting the Distribution of our dataset\n",
    "Here we are ploting the distributions of our different fields"
   ]
  },
  {
   "cell_type": "code",
   "execution_count": 15,
   "id": "65375ce9-7f7a-4978-a71e-83467aced26c",
   "metadata": {},
   "outputs": [
    {
     "data": {
      "image/png": "[encoded data removed]",
      "text/plain": [
       "<Figure size 360x360 with 1 Axes>"
      ]
     },
     "metadata": {
      "needs_background": "light"
     },
     "output_type": "display_data"
    },
    {
     "data": {
      "image/png": "[encoded data removed]",
      "text/plain": [
       "<Figure size 360x360 with 1 Axes>"
      ]
     },
     "metadata": {
      "needs_background": "light"
     },
     "output_type": "display_data"
    },
    {
     "data": {
      "image/png": "[encoded data removed]",
      "text/plain": [
       "<Figure size 360x360 with 1 Axes>"
      ]
     },
     "metadata": {
      "needs_background": "light"
     },
     "output_type": "display_data"
    },
    {
     "data": {
      "image/png": "[encoded data removed]",
      "text/plain": [
       "<Figure size 360x360 with 1 Axes>"
      ]
     },
     "metadata": {
      "needs_background": "light"
     },
     "output_type": "display_data"
    },
    {
     "data": {
      "image/png": "[encoded data removed]",
      "text/plain": [
       "<Figure size 360x360 with 1 Axes>"
      ]
     },
     "metadata": {
      "needs_background": "light"
     },
     "output_type": "display_data"
    },
    {
     "data": {
      "image/png": "[encoded data removed]",
      "text/plain": [
       "<Figure size 360x360 with 1 Axes>"
      ]
     },
     "metadata": {
      "needs_background": "light"
     },
     "output_type": "display_data"
    },
    {
     "data": {
      "image/png": "[encoded data removed]",
      "text/plain": [
       "<Figure size 360x360 with 1 Axes>"
      ]
     },
     "metadata": {
      "needs_background": "light"
     },
     "output_type": "display_data"
    }
   ],
   "source": [
    "sns.displot(data['N'],color='darkred',kde='true')\n",
    "plt.xlabel('Ratio of Nitrogen', fontsize=12)\n",
    "plt.ylabel('Density', fontsize=12)\n",
    "plt.grid()\n",
    "\n",
    "plt.title('Distribution of Agriculture', fontsize=20)\n",
    "\n",
    "conditions=['P','K','temperature','humidity','ph','rainfall']\n",
    "colors=['lightblue','darkblue','purple','green','magenta','orange']\n",
    "x_label_for_plot=['Ratio of Phosphorus','Ratio of Potassium','Temperature','Humidity','pH','Rainfall']\n",
    "\n",
    "for i in range(0,len(conditions)):\n",
    "    sns.displot(data[conditions[i]],color=colors[i],kde='true')\n",
    "    plt.xlabel(x_label_for_plot[i], fontsize=12)\n",
    "    plt.ylabel('Density', fontsize=12)\n",
    "    plt.grid()\n",
    "    \n",
    "plt.show()"
   ]
  },
  {
   "cell_type": "code",
   "execution_count": 16,
   "id": "ed2279b5-b65b-467b-bfe2-8a0e854c6a61",
   "metadata": {},
   "outputs": [
    {
     "name": "stdout",
     "output_type": "stream",
     "text": [
      "Crops which need higher ratio of Nitrogen content in soil : ['cotton']\n",
      "Crops that need lower ratio of Nitrogen content in soil:  ['kidneybeans' 'pigeonpeas' 'mothbeans' 'mungbean' 'lentil' 'pomegranate'\n",
      " 'mango' 'grapes' 'apple' 'orange' 'coconut'] \n",
      "\n",
      "Crops which need higher ratio of Phosphorus content in soil:  ['grapes' 'apple']\n",
      "Crops that need lower ratio of Phosphorus content in soil:  ['pomegranate' 'mango' 'watermelon' 'muskmelon' 'orange' 'coconut'\n",
      " 'coffee'] \n",
      "\n",
      "Crops which need lower humidity in soil:  ['chickpea' 'kidneybeans']\n",
      "Crops which need higher humidity in soil:  ['rice' 'maize' 'pigeonpeas' 'mothbeans' 'mungbean' 'blackgram' 'lentil'\n",
      " 'pomegranate' 'banana' 'grapes' 'watermelon' 'muskmelon' 'apple' 'orange'\n",
      " 'papaya' 'coconut' 'cotton' 'jute' 'coffee'] \n",
      "\n",
      "Crops that need higher temperature:  ['pigeonpeas' 'mothbeans' 'blackgram' 'mango' 'grapes' 'orange' 'papaya']\n",
      "Crops which need lower temperature:  ['grapes' 'orange'] \n",
      "\n",
      "Crops that need high rainfall:  ['rice' 'papaya' 'coconut']\n",
      "Crops which need low pH:  ['mothbeans']\n",
      "Crops that need high ph:  ['mothbeans']\n"
     ]
    }
   ],
   "source": [
    "# Finding out the crops that need more or less condition requirement\n",
    "\n",
    "print(\"Crops which need higher ratio of Nitrogen content in soil :\", data[data['N']>120]['label'].unique())\n",
    "print(\"Crops that need lower ratio of Nitrogen content in soil: \", data[data['N']<20]['label'].unique(),\"\\n\")\n",
    "print(\"Crops which need higher ratio of Phosphorus content in soil: \",data[data['P']>100]['label'].unique())\n",
    "print(\"Crops that need lower ratio of Phosphorus content in soil: \",data[data['P']<20]['label'].unique(),\"\\n\")\n",
    "print(\"Crops which need lower humidity in soil: \",data[data['humidity']<20]['label'].unique())\n",
    "print(\"Crops which need higher humidity in soil: \",data[data['humidity']>60]['label'].unique(),\"\\n\")\n",
    "print(\"Crops that need higher temperature: \",data[data['temperature']>30]['label'].unique())\n",
    "print(\"Crops which need lower temperature: \",data[data['temperature']<15]['label'].unique(),\"\\n\")\n",
    "print(\"Crops that need high rainfall: \",data[data['rainfall']>200]['label'].unique())\n",
    "print(\"Crops which need low pH: \",data[data['ph']<4]['label'].unique())\n",
    "print(\"Crops that need high ph: \",data[data['ph']>9]['label'].unique())"
   ]
  },
  {
   "cell_type": "markdown",
   "id": "e884972f-325a-4a5a-a41e-427a54d66374",
   "metadata": {},
   "source": [
    "# Finding Out suitable season to grow crop\n",
    "\n",
    "Here we are trying to categorize the crops according to the seasons in which they will be suitable to grow giving less financial strain to the farmers."
   ]
  },
  {
   "cell_type": "code",
   "execution_count": 17,
   "id": "4f414ae3-af4e-4e98-bea0-b49d319972c3",
   "metadata": {},
   "outputs": [
    {
     "name": "stdout",
     "output_type": "stream",
     "text": [
      "SUMMER CROPS\n",
      "1 pigeonpeas\n",
      "2 mothbeans\n",
      "3 blackgram\n",
      "4 mango\n",
      "5 grapes\n",
      "6 orange\n",
      "7 papaya\n",
      "\n",
      "\n",
      "WINTER CROPS\n",
      "1 maize\n",
      "2 pigeonpeas\n",
      "3 lentil\n",
      "4 pomegranate\n",
      "5 grapes\n",
      "6 orange\n",
      "\n",
      "\n",
      "RAINY CROPS\n",
      "1 rice\n",
      "2 papaya\n",
      "3 coconut\n"
     ]
    }
   ],
   "source": [
    "print(\"SUMMER CROPS\")\n",
    "summer_crops=data[(data['temperature']>30) & (data['humidity']>50)]['label'].unique()\n",
    "for i in range(0, len(summer_crops)):\n",
    "    print(i+1, summer_crops[i])\n",
    "print('\\n')\n",
    "print(\"WINTER CROPS\")\n",
    "winter_crops=data[(data['temperature']<20) & (data['humidity']>30)]['label'].unique()\n",
    "for i in range(0, len(winter_crops)):\n",
    "    print(i+1, winter_crops[i])\n",
    "    \n",
    "print('\\n')\n",
    "print(\"RAINY CROPS\")\n",
    "rainy_crops=data[(data['rainfall']>200) & (data['humidity']>30)]['label'].unique()\n",
    "for i in range(0, len(rainy_crops)):\n",
    "    print(i+1, rainy_crops[i])\n"
   ]
  },
  {
   "cell_type": "markdown",
   "id": "b277e9f8-1c63-4ae2-a40f-53541d790b9e",
   "metadata": {},
   "source": [
    "# Clustering \n",
    "\n",
    "Here we are clustering our data to group different crop which can be grown in similar conditions.\n",
    "Clustering is a concept that we use in Unsupervised learning.\n",
    "here we are using K-Means clustering technique to create clusters.\n",
    "For more details about clustering: https://www.analyticsvidhya.com/blog/2016/11/an-introduction-to-clustering-and-different-methods-of-clustering/"
   ]
  },
  {
   "cell_type": "code",
   "execution_count": 18,
   "id": "91f72656-6317-4dbf-b64c-dfb6ff39ed4b",
   "metadata": {},
   "outputs": [
    {
     "data": {
      "image/png": "[encoded data removed]",
      "text/plain": [
       "<Figure size 720x288 with 1 Axes>"
      ]
     },
     "metadata": {
      "needs_background": "light"
     },
     "output_type": "display_data"
    }
   ],
   "source": [
    "from sklearn.cluster import KMeans\n",
    "\n",
    "#Removing the labels coloumn as we don't need labels here for unsupervised learning\n",
    "x=data.drop(['label'],axis=1)\n",
    "\n",
    "#selecting all the values of data\n",
    "x=x.values\n",
    "\n",
    "#Using Elbow method to find out the optimum value of k to apply K-Means Algo\n",
    "plt.rcParams['figure.figsize']=(10,4)\n",
    "\n",
    "within_cluster_sum_of_squares_or_wcss=[]\n",
    "for i in range(1,11):\n",
    "    km=KMeans(n_clusters=i, init='k-means++', max_iter=10, random_state=0)\n",
    "    km.fit(x)\n",
    "    within_cluster_sum_of_squares_or_wcss.append(km.inertia_)\n",
    "    \n",
    "#plotting the results\n",
    "plt.plot(range(1,11),within_cluster_sum_of_squares_or_wcss)\n",
    "plt.title(\"Using Elbow Method to find out the optimum value of k\",fontsize=20)\n",
    "plt.xlabel(\"Number of clusters\")\n",
    "plt.ylabel(\"Within Cluster Sum of Squares or WCSS\")\n",
    "plt.show()"
   ]
  },
  {
   "cell_type": "code",
   "execution_count": 19,
   "id": "52762f23-d30f-4565-abd1-47871e4a9a03",
   "metadata": {},
   "outputs": [
    {
     "name": "stdout",
     "output_type": "stream",
     "text": [
      "Crops in 1st cluster:  ['maize' 'chickpea' 'kidneybeans' 'pigeonpeas' 'mothbeans' 'mungbean'\n",
      " 'blackgram' 'lentil' 'pomegranate' 'mango' 'orange' 'papaya' 'coconut'] \n",
      "\n",
      "\n",
      "Crops in 2nd cluster:  ['maize' 'banana' 'watermelon' 'muskmelon' 'papaya' 'cotton' 'coffee'] \n",
      "\n",
      "\n",
      "Crops in 3rd cluster:  ['grapes' 'apple'] \n",
      "\n",
      "\n",
      "Crops in 4th cluster:  ['rice' 'pigeonpeas' 'papaya' 'coconut' 'jute' 'coffee'] \n",
      "\n",
      "\n"
     ]
    }
   ],
   "source": [
    "# Implementing K-Means clustering\n",
    "\n",
    "km=KMeans(n_clusters=4, init='k-means++', max_iter=300, n_init=10, random_state=0)\n",
    "y_means=km.fit_predict(x)\n",
    "\n",
    "labels=data['label']\n",
    "y_means = pd.DataFrame(y_means)\n",
    "z=pd.concat([y_means,labels],axis=1)\n",
    "z=z.rename(columns={0:'cluster'})\n",
    "\n",
    "#Checking clusters of each crop\n",
    "n=[\"1st\",\"2nd\",\"3rd\",\"4th\"]\n",
    "for i in range(0,len(n)):\n",
    "    print(\"Crops in\",n[i],\"cluster: \", z[z['cluster']==i]['label'].unique(),\"\\n\\n\")\n"
   ]
  },
  {
   "cell_type": "markdown",
   "id": "ece99b3b",
   "metadata": {},
   "source": [
    "# Creating Predictive Model\n",
    "\n",
    "Now, we are creating a predictive model based on our data, to create predictions for our purposes.\n",
    "We are using Logistic Regression algorithm for training our model, as it is used in statistical software to understand the relationship between the dependent variable and one or more independent variables by estimating probabilities using a logistic regression equation. For More information about Logistic regression: https://www.ibm.com/topics/logistic-regression"
   ]
  },
  {
   "cell_type": "code",
   "execution_count": 20,
   "id": "b77c2047",
   "metadata": {},
   "outputs": [],
   "source": [
    "y=data['label']\n",
    "x=data.drop(['label'],axis=1)\n",
    "#print(without_labels.shape, only_labels.shape)"
   ]
  },
  {
   "cell_type": "markdown",
   "id": "b8031f4b",
   "metadata": {},
   "source": [
    "# Splitting Our dataset and Training our model\n",
    "\n",
    "Now, we are splitting our dataset to train our model and test our model, and for this we are using sklearn library's train_test_split, To train our model we are using LogisticRegression() from sklearn library"
   ]
  },
  {
   "cell_type": "code",
   "execution_count": 21,
   "id": "cd98ea83",
   "metadata": {},
   "outputs": [],
   "source": [
    "# Splitting our dataset \n",
    "from sklearn.model_selection import train_test_split\n",
    "\n",
    "\n",
    "x_train, x_test, y_train, y_test=train_test_split(x,y, test_size=0.2, random_state=0)\n",
    "#print(x_train.shape, x_test.shape, y_train.shape, y_test.shape)"
   ]
  },
  {
   "cell_type": "code",
   "execution_count": 22,
   "id": "b1818913",
   "metadata": {},
   "outputs": [],
   "source": [
    "# Training Our Model\n",
    "from sklearn.linear_model import LogisticRegression\n",
    "from sklearn.preprocessing import StandardScaler #scales our algorithm\n",
    "from sklearn.pipeline import make_pipeline #makes a pipeline to scale and use the LogisticRegression() otehrwise will give error \n",
    "\n",
    "''' ConvergenceWarning:\n",
    "\n",
    "    lbfgs failed to converge (status=1):\n",
    "    STOP: TOTAL NO. of ITERATIONS REACHED LIMIT.\n",
    "'''\n",
    "\n",
    "# Training Our Model\n",
    "model = make_pipeline(StandardScaler(), LogisticRegression())\n",
    "model.fit(x_train, y_train)  # apply scaling on training data\n",
    "y_prediction=model.predict(x_test)"
   ]
  },
  {
   "cell_type": "markdown",
   "id": "bef8cfe9",
   "metadata": {},
   "source": [
    "# Evaluating Our Model\n",
    "\n",
    "Here we are comparing our model predictions with the original answers using confusion matrix and then we are using classification report to check on precision and recall"
   ]
  },
  {
   "cell_type": "code",
   "execution_count": 23,
   "id": "009f875c",
   "metadata": {},
   "outputs": [
    {
     "data": {
      "image/png": "[encoded data removed]",
      "text/plain": [
       "<Figure size 720x720 with 2 Axes>"
      ]
     },
     "metadata": {
      "needs_background": "light"
     },
     "output_type": "display_data"
    },
    {
     "name": "stdout",
     "output_type": "stream",
     "text": [
      "              precision    recall  f1-score   support\n",
      "\n",
      "       apple       1.00      1.00      1.00        18\n",
      "      banana       1.00      1.00      1.00        18\n",
      "   blackgram       0.87      0.91      0.89        22\n",
      "    chickpea       1.00      1.00      1.00        23\n",
      "     coconut       1.00      1.00      1.00        15\n",
      "      coffee       1.00      1.00      1.00        17\n",
      "      cotton       0.94      1.00      0.97        16\n",
      "      grapes       1.00      1.00      1.00        18\n",
      "        jute       0.87      0.95      0.91        21\n",
      " kidneybeans       0.95      1.00      0.98        20\n",
      "      lentil       0.82      0.82      0.82        17\n",
      "       maize       1.00      0.94      0.97        18\n",
      "       mango       1.00      1.00      1.00        21\n",
      "   mothbeans       0.95      0.84      0.89        25\n",
      "    mungbean       1.00      1.00      1.00        17\n",
      "   muskmelon       0.96      1.00      0.98        23\n",
      "      orange       1.00      1.00      1.00        23\n",
      "      papaya       0.95      0.95      0.95        21\n",
      "  pigeonpeas       0.91      0.95      0.93        22\n",
      " pomegranate       1.00      1.00      1.00        23\n",
      "        rice       1.00      0.88      0.94        25\n",
      "  watermelon       1.00      1.00      1.00        17\n",
      "\n",
      "    accuracy                           0.96       440\n",
      "   macro avg       0.97      0.97      0.97       440\n",
      "weighted avg       0.96      0.96      0.96       440\n",
      "\n"
     ]
    }
   ],
   "source": [
    "# Importing confusion_matrix from sklearn.metrics\n",
    "from sklearn.metrics import confusion_matrix, classification_report\n",
    "\n",
    "plt.rcParams['figure.figsize']=(10,10)\n",
    "confusionmatrix=confusion_matrix(y_test,y_prediction)\n",
    "sns.heatmap(confusionmatrix,annot =True,cmap='viridis')\n",
    "plt.title('Confusion Matrix',fontsize=20)\n",
    "plt.show()\n",
    "\n",
    "# getting Classification report\n",
    "\n",
    "classificationreport=classification_report(y_test,y_prediction)\n",
    "print(classificationreport)"
   ]
  },
  {
   "cell_type": "markdown",
   "id": "aa851e05",
   "metadata": {},
   "source": [
    "# Taking User Input to see if the model can work or not\n"
   ]
  },
  {
   "cell_type": "code",
   "execution_count": 31,
   "id": "93569222",
   "metadata": {},
   "outputs": [
    {
     "name": "stdout",
     "output_type": "stream",
     "text": [
      "Enter the Nitrogen 90\n",
      "Enter the Phosphorus 42\n",
      "Enter the Potassium 46\n",
      "Enter the Temperature 24\n",
      "Enter the Humidity 88\n",
      "Enter the pH 7\n",
      "Enter the Rainfall 220\n",
      "The suggested crop is : ['rice']\n"
     ]
    },
    {
     "name": "stderr",
     "output_type": "stream",
     "text": [
      "/home/enjoymaity/.local/lib/python3.9/site-packages/sklearn/base.py:445: UserWarning: X does not have valid feature names, but StandardScaler was fitted with feature names\n",
      "  warnings.warn(\n"
     ]
    }
   ],
   "source": [
    "conditions=['Nitrogen','Phosphorus','Potassium','Temperature','Humidity','pH','Rainfall']\n",
    "array=[]\n",
    "for i in conditions:\n",
    "    val=int(input(\"Enter the {} \".format(i)))\n",
    "    array.append(val)\n",
    "array=np.array([array])\n",
    "print(\"The suggested crop is :\",model.predict(array))"
   ]
  }
 ],
 "metadata": {
  "kernelspec": {
   "display_name": "Python 3 (ipykernel)",
   "language": "python",
   "name": "python3"
  },
  "language_info": {
   "codemirror_mode": {
    "name": "ipython",
    "version": 3
   },
   "file_extension": ".py",
   "mimetype": "text/x-python",
   "name": "python",
   "nbconvert_exporter": "python",
   "pygments_lexer": "ipython3",
   "version": "3.9.9"
  }
 },
 "nbformat": 4,
 "nbformat_minor": 5
}
